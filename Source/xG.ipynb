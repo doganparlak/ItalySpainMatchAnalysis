{
 "cells": [
  {
   "cell_type": "code",
   "execution_count": 1,
   "metadata": {},
   "outputs": [],
   "source": [
    "import json\n",
    "import pandas as pd\n",
    "import matplotlib.pyplot as plt\n",
    "import numpy as np"
   ]
  },
  {
   "cell_type": "code",
   "execution_count": 2,
   "metadata": {},
   "outputs": [
    {
     "data": {
      "text/plain": [
       "<matplotlib.legend.Legend at 0x109d58790>"
      ]
     },
     "execution_count": 2,
     "metadata": {},
     "output_type": "execute_result"
    },
    {
     "data": {
      "image/png": "[encoded data removed]",
      "text/plain": [
       "<Figure size 432x288 with 1 Axes>"
      ]
     },
     "metadata": {
      "needs_background": "light"
     },
     "output_type": "display_data"
    }
   ],
   "source": [
    "#output_filename = \"xG_plot\"\n",
    "\n",
    "with open(\"data/5111408/5111408_events.json\") as f:\n",
    "    data = json.load(f)\n",
    "\n",
    "events = data[\"events\"]\n",
    "\n",
    "team_current_score = {}\n",
    "\n",
    "team_shot_x_points = {}\n",
    "team_shot_y_points = {}\n",
    "\n",
    "team_goal_x_points = {}\n",
    "team_goal_y_points = {}\n",
    "\n",
    "team_meta = {}\n",
    "\n",
    "end = 0\n",
    "\n",
    "for event in events:\n",
    "    end = event[\"minute\"]\n",
    "\n",
    "    if event[\"type\"][\"primary\"] != \"shot\":\n",
    "        continue\n",
    "    team_id = event[\"team\"][\"id\"]\n",
    "    team_meta[team_id] = event[\"team\"]\n",
    "    shot = event[\"shot\"]\n",
    "    old_score = team_current_score.get(team_id, 0)\n",
    "\n",
    "    team_shot_x_points.setdefault(team_id, []).append(event[\"minute\"])\n",
    "    team_shot_y_points.setdefault(team_id, []).append(old_score)\n",
    "\n",
    "    # Increment score\n",
    "    xg = shot[\"xg\"]\n",
    "    team_current_score[team_id] = old_score + xg\n",
    "\n",
    "    team_shot_x_points.setdefault(team_id, []).append(event[\"minute\"])\n",
    "    team_shot_y_points.setdefault(team_id, []).append(old_score + xg)\n",
    "\n",
    "    if shot[\"isGoal\"]:\n",
    "        team_goal_x_points.setdefault(team_id, []).append(event[\"minute\"])\n",
    "        team_goal_y_points.setdefault(team_id, []).append(old_score + xg)\n",
    "\n",
    "\n",
    "fig, ax = plt.subplots()\n",
    "for team, points in team_shot_x_points.items():\n",
    "    meta = team_meta[team]\n",
    "    end_score = team_current_score[team]\n",
    "\n",
    "    ax.plot(\n",
    "        [0] + points + [end],\n",
    "        [0] + team_shot_y_points.get(team, []) + [end_score],\n",
    "        label=meta[\"name\"],\n",
    "    )\n",
    "\n",
    "    if team in team_goal_x_points:\n",
    "        ax.scatter(\n",
    "            team_goal_x_points[team],\n",
    "            team_goal_y_points[team],\n",
    "            marker=\"o\",\n",
    "        )\n",
    "\n",
    "ax.set_ylabel(\"Cumulative Expected Goals\")\n",
    "ax.set_xlabel(\"Minutes\")\n",
    "ax.legend()\n",
    "\n",
    "#fig.savefig(output_filename)\n"
   ]
  },
  {
   "cell_type": "code",
   "execution_count": null,
   "metadata": {},
   "outputs": [],
   "source": []
  }
 ],
 "metadata": {
  "interpreter": {
   "hash": "1ee38ef4a5a9feb55287fd749643f13d043cb0a7addaab2a9c224cbe137c0062"
  },
  "kernelspec": {
   "display_name": "Python 3.8.8 64-bit",
   "language": "python",
   "name": "python3"
  },
  "language_info": {
   "codemirror_mode": {
    "name": "ipython",
    "version": 3
   },
   "file_extension": ".py",
   "mimetype": "text/x-python",
   "name": "python",
   "nbconvert_exporter": "python",
   "pygments_lexer": "ipython3",
   "version": "3.8.8"
  },
  "orig_nbformat": 4
 },
 "nbformat": 4,
 "nbformat_minor": 2
}
